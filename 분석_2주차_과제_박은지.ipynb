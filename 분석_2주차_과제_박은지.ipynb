{
  "nbformat": 4,
  "nbformat_minor": 0,
  "metadata": {
    "kernelspec": {
      "display_name": "Python 3",
      "language": "python",
      "name": "python3"
    },
    "language_info": {
      "codemirror_mode": {
        "name": "ipython",
        "version": 3
      },
      "file_extension": ".py",
      "mimetype": "text/x-python",
      "name": "python",
      "nbconvert_exporter": "python",
      "pygments_lexer": "ipython3",
      "version": "3.7.4"
    },
    "colab": {
      "name": "분석 2주차 과제 - 박은지.ipynb",
      "provenance": [],
      "collapsed_sections": [],
      "include_colab_link": true
    }
  },
  "cells": [
    {
      "cell_type": "markdown",
      "metadata": {
        "id": "view-in-github",
        "colab_type": "text"
      },
      "source": [
        "<a href=\"https://colab.research.google.com/github/EunjiPark0120/Eunji/blob/master/%EB%B6%84%EC%84%9D_2%EC%A3%BC%EC%B0%A8_%EA%B3%BC%EC%A0%9C_%EB%B0%95%EC%9D%80%EC%A7%80.ipynb\" target=\"_parent\"><img src=\"https://colab.research.google.com/assets/colab-badge.svg\" alt=\"Open In Colab\"/></a>"
      ]
    },
    {
      "cell_type": "markdown",
      "metadata": {
        "id": "On_HRnyUENWn"
      },
      "source": [
        "# 분석 2주차 과제"
      ]
    },
    {
      "cell_type": "markdown",
      "metadata": {
        "id": "7I7dxzz0ENWq"
      },
      "source": [
        "# 1. LinearRegression"
      ]
    },
    {
      "cell_type": "code",
      "metadata": {
        "id": "b21R51YXENWr"
      },
      "source": [
        "import pandas as pd\n",
        "from sklearn.linear_model import LinearRegression\n",
        "import numpy as np\n",
        "import matplotlib.pyplot as plt\n",
        "%matplotlib inline"
      ],
      "execution_count": null,
      "outputs": []
    },
    {
      "cell_type": "code",
      "metadata": {
        "id": "epPgtY3_ENWs"
      },
      "source": [
        "# 단순선형회귀\n",
        "list_y = []\n",
        "# 1부터 20까지 X data를 만들어주었습니다.\n",
        "X = np.arange(1,21) \n",
        "# X에 임의의 수를 더해 임의의 Y data를 만듭니다.\n",
        "for x in X:\n",
        "    list_y.append(x+np.random.randint(6))\n",
        "Y = np.array(list_y)\n",
        "df = pd.DataFrame({'X':X,'Y':Y})"
      ],
      "execution_count": null,
      "outputs": []
    },
    {
      "cell_type": "code",
      "metadata": {
        "colab": {
          "base_uri": "https://localhost:8080/"
        },
        "id": "KeU1vZLwENWs",
        "outputId": "9e747223-744e-487f-e6a6-9ded1cb31ee1"
      },
      "source": [
        "# 데이터 확인\n",
        "df.shape"
      ],
      "execution_count": null,
      "outputs": [
        {
          "output_type": "execute_result",
          "data": {
            "text/plain": [
              "(20, 2)"
            ]
          },
          "metadata": {
            "tags": []
          },
          "execution_count": 63
        }
      ]
    },
    {
      "cell_type": "code",
      "metadata": {
        "colab": {
          "base_uri": "https://localhost:8080/",
          "height": 196
        },
        "id": "rfpEUVMaETob",
        "outputId": "a4e2be1a-188b-4354-d396-fcd083f45f78"
      },
      "source": [
        "df.head()"
      ],
      "execution_count": null,
      "outputs": [
        {
          "output_type": "execute_result",
          "data": {
            "text/html": [
              "<div>\n",
              "<style scoped>\n",
              "    .dataframe tbody tr th:only-of-type {\n",
              "        vertical-align: middle;\n",
              "    }\n",
              "\n",
              "    .dataframe tbody tr th {\n",
              "        vertical-align: top;\n",
              "    }\n",
              "\n",
              "    .dataframe thead th {\n",
              "        text-align: right;\n",
              "    }\n",
              "</style>\n",
              "<table border=\"1\" class=\"dataframe\">\n",
              "  <thead>\n",
              "    <tr style=\"text-align: right;\">\n",
              "      <th></th>\n",
              "      <th>X</th>\n",
              "      <th>Y</th>\n",
              "    </tr>\n",
              "  </thead>\n",
              "  <tbody>\n",
              "    <tr>\n",
              "      <th>0</th>\n",
              "      <td>1</td>\n",
              "      <td>6</td>\n",
              "    </tr>\n",
              "    <tr>\n",
              "      <th>1</th>\n",
              "      <td>2</td>\n",
              "      <td>6</td>\n",
              "    </tr>\n",
              "    <tr>\n",
              "      <th>2</th>\n",
              "      <td>3</td>\n",
              "      <td>7</td>\n",
              "    </tr>\n",
              "    <tr>\n",
              "      <th>3</th>\n",
              "      <td>4</td>\n",
              "      <td>8</td>\n",
              "    </tr>\n",
              "    <tr>\n",
              "      <th>4</th>\n",
              "      <td>5</td>\n",
              "      <td>8</td>\n",
              "    </tr>\n",
              "  </tbody>\n",
              "</table>\n",
              "</div>"
            ],
            "text/plain": [
              "   X  Y\n",
              "0  1  6\n",
              "1  2  6\n",
              "2  3  7\n",
              "3  4  8\n",
              "4  5  8"
            ]
          },
          "metadata": {
            "tags": []
          },
          "execution_count": 64
        }
      ]
    },
    {
      "cell_type": "markdown",
      "metadata": {
        "id": "2l59az5MENWt"
      },
      "source": [
        "**LinearRegressoion을 이용하여 X data에 대해 학습을 진행한 후 직선의 방정식을 구해주세요.**\n",
        "\n",
        "[답] : $y = 0.967 * X + 3.547$"
      ]
    },
    {
      "cell_type": "code",
      "metadata": {
        "id": "3njpPDCFENWt",
        "colab": {
          "base_uri": "https://localhost:8080/"
        },
        "outputId": "0f8060ee-025f-494b-a809-a0a7cedd3b3d"
      },
      "source": [
        "# 모델 생성 후 학습시키기\n",
        "X = df['X']\n",
        "Y = df['Y']\n",
        "line_fitter = LinearRegression()\n",
        "line_fitter.fit(X.values.reshape(-1,1), Y)"
      ],
      "execution_count": null,
      "outputs": [
        {
          "output_type": "execute_result",
          "data": {
            "text/plain": [
              "LinearRegression(copy_X=True, fit_intercept=True, n_jobs=None, normalize=False)"
            ]
          },
          "metadata": {
            "tags": []
          },
          "execution_count": 65
        }
      ]
    },
    {
      "cell_type": "code",
      "metadata": {
        "id": "HzAd8RtQENWu",
        "colab": {
          "base_uri": "https://localhost:8080/"
        },
        "outputId": "703871d5-30eb-4687-ce8a-fcc7a283801d"
      },
      "source": [
        "# 회귀계수 구해보기\n",
        "print(\"회귀계수 : \" , line_fitter.coef_.round(3) )"
      ],
      "execution_count": null,
      "outputs": [
        {
          "output_type": "stream",
          "text": [
            "회귀계수 :  [0.939]\n"
          ],
          "name": "stdout"
        }
      ]
    },
    {
      "cell_type": "code",
      "metadata": {
        "id": "e-33YCQxENWu",
        "colab": {
          "base_uri": "https://localhost:8080/"
        },
        "outputId": "5ceb69a6-b745-4e72-ab82-993a8a79bc11"
      },
      "source": [
        "# 상수항 구해보기\n",
        "print(\"상수항 : \" , line_fitter.intercept_.round(3) )"
      ],
      "execution_count": null,
      "outputs": [
        {
          "output_type": "stream",
          "text": [
            "상수항 :  3.789\n"
          ],
          "name": "stdout"
        }
      ]
    },
    {
      "cell_type": "markdown",
      "metadata": {
        "id": "xo-Y75n9ENWv"
      },
      "source": [
        "**X data에 대해 예측을 수행한 후, 그래프를 통해 학습데이터와 회귀직선을 나타내보세요.**"
      ]
    },
    {
      "cell_type": "code",
      "metadata": {
        "colab": {
          "base_uri": "https://localhost:8080/",
          "height": 265
        },
        "id": "miNS7t7i4vP_",
        "outputId": "430fb5e4-3bc3-4a3b-ce89-a889cf681cba"
      },
      "source": [
        "# X data에 대해 예측\r\n",
        "Y_predeic = line_fitter.predict(X.values.reshape(-1,1))\r\n",
        "\r\n",
        "# 점(학습데이터)들 찍어보기\r\n",
        "plt.plot(X, Y, 'o')\r\n",
        "\r\n",
        "# 회귀직선 그려보기\r\n",
        "plt.plot(X,line_fitter.predict(X.values.reshape(-1,1)))\r\n",
        "plt.show()"
      ],
      "execution_count": null,
      "outputs": [
        {
          "output_type": "display_data",
          "data": {
            "image/png": "[encoded data removed]",
            "text/plain": [
              "<Figure size 432x288 with 1 Axes>"
            ]
          },
          "metadata": {
            "tags": [],
            "needs_background": "light"
          }
        }
      ]
    },
    {
      "cell_type": "markdown",
      "metadata": {
        "id": "Q0MzCu62ENWw"
      },
      "source": [
        "**회귀분석 평가지표 중 하나를 골라 구해보세요**\n",
        "- MSE, RMSE, R2_score 등"
      ]
    },
    {
      "cell_type": "code",
      "metadata": {
        "id": "xU1rPaA_ENWw",
        "colab": {
          "base_uri": "https://localhost:8080/"
        },
        "outputId": "8bc85539-7bc7-4044-9a42-b9abe568fbb6"
      },
      "source": [
        "# 여기에 구해보세요!\r\n",
        "from sklearn.metrics import mean_squared_error, r2_score\r\n",
        "mse = mean_squared_error(Y, Y_predeic)\r\n",
        "rmse = np.sqrt(mse)\r\n",
        "r2 = r2_score(Y, Y_predeic)\r\n",
        "\r\n",
        "print(\"MSE score : \", mse)\r\n",
        "print(\"RMSE score : \", rmse)\r\n",
        "print(\"r2 score : \", r2)\r\n"
      ],
      "execution_count": null,
      "outputs": [
        {
          "output_type": "stream",
          "text": [
            "MSE score :  2.804172932330828\n",
            "RMSE score :  1.6745664908658682\n",
            "r2 score :  0.9127173626229608\n"
          ],
          "name": "stdout"
        }
      ]
    },
    {
      "cell_type": "markdown",
      "metadata": {
        "id": "W3kWqPAwENWw"
      },
      "source": [
        "# Logistic Regression"
      ]
    },
    {
      "cell_type": "code",
      "metadata": {
        "id": "dnU_-h_2ENWx"
      },
      "source": [
        "# 사이킷런의 데이터셋 로드\n",
        "from sklearn.datasets import load_breast_cancer"
      ],
      "execution_count": null,
      "outputs": []
    },
    {
      "cell_type": "code",
      "metadata": {
        "id": "ZJko5ylfENWx"
      },
      "source": [
        "breast_cancer = load_breast_cancer()\n",
        "df = pd.DataFrame(data = breast_cancer.data, columns = breast_cancer.feature_names)\n",
        "df[\"label\"] = breast_cancer.target\n",
        "df.columns = [ col.replace(\" \", \"_\") for col in df.columns]"
      ],
      "execution_count": null,
      "outputs": []
    },
    {
      "cell_type": "code",
      "metadata": {
        "colab": {
          "base_uri": "https://localhost:8080/",
          "height": 216
        },
        "id": "Lcyi85ftENWx",
        "outputId": "f9eaefff-9662-4d8a-9ade-2b2bce453615"
      },
      "source": [
        "# 데이터가 잘 로드되었는지 확인해보세요\n",
        "df.head()"
      ],
      "execution_count": null,
      "outputs": [
        {
          "output_type": "execute_result",
          "data": {
            "text/html": [
              "<div>\n",
              "<style scoped>\n",
              "    .dataframe tbody tr th:only-of-type {\n",
              "        vertical-align: middle;\n",
              "    }\n",
              "\n",
              "    .dataframe tbody tr th {\n",
              "        vertical-align: top;\n",
              "    }\n",
              "\n",
              "    .dataframe thead th {\n",
              "        text-align: right;\n",
              "    }\n",
              "</style>\n",
              "<table border=\"1\" class=\"dataframe\">\n",
              "  <thead>\n",
              "    <tr style=\"text-align: right;\">\n",
              "      <th></th>\n",
              "      <th>mean_radius</th>\n",
              "      <th>mean_texture</th>\n",
              "      <th>mean_perimeter</th>\n",
              "      <th>mean_area</th>\n",
              "      <th>mean_smoothness</th>\n",
              "      <th>mean_compactness</th>\n",
              "      <th>mean_concavity</th>\n",
              "      <th>mean_concave_points</th>\n",
              "      <th>mean_symmetry</th>\n",
              "      <th>mean_fractal_dimension</th>\n",
              "      <th>radius_error</th>\n",
              "      <th>texture_error</th>\n",
              "      <th>perimeter_error</th>\n",
              "      <th>area_error</th>\n",
              "      <th>smoothness_error</th>\n",
              "      <th>compactness_error</th>\n",
              "      <th>concavity_error</th>\n",
              "      <th>concave_points_error</th>\n",
              "      <th>symmetry_error</th>\n",
              "      <th>fractal_dimension_error</th>\n",
              "      <th>worst_radius</th>\n",
              "      <th>worst_texture</th>\n",
              "      <th>worst_perimeter</th>\n",
              "      <th>worst_area</th>\n",
              "      <th>worst_smoothness</th>\n",
              "      <th>worst_compactness</th>\n",
              "      <th>worst_concavity</th>\n",
              "      <th>worst_concave_points</th>\n",
              "      <th>worst_symmetry</th>\n",
              "      <th>worst_fractal_dimension</th>\n",
              "      <th>label</th>\n",
              "    </tr>\n",
              "  </thead>\n",
              "  <tbody>\n",
              "    <tr>\n",
              "      <th>0</th>\n",
              "      <td>17.99</td>\n",
              "      <td>10.38</td>\n",
              "      <td>122.80</td>\n",
              "      <td>1001.0</td>\n",
              "      <td>0.11840</td>\n",
              "      <td>0.27760</td>\n",
              "      <td>0.3001</td>\n",
              "      <td>0.14710</td>\n",
              "      <td>0.2419</td>\n",
              "      <td>0.07871</td>\n",
              "      <td>1.0950</td>\n",
              "      <td>0.9053</td>\n",
              "      <td>8.589</td>\n",
              "      <td>153.40</td>\n",
              "      <td>0.006399</td>\n",
              "      <td>0.04904</td>\n",
              "      <td>0.05373</td>\n",
              "      <td>0.01587</td>\n",
              "      <td>0.03003</td>\n",
              "      <td>0.006193</td>\n",
              "      <td>25.38</td>\n",
              "      <td>17.33</td>\n",
              "      <td>184.60</td>\n",
              "      <td>2019.0</td>\n",
              "      <td>0.1622</td>\n",
              "      <td>0.6656</td>\n",
              "      <td>0.7119</td>\n",
              "      <td>0.2654</td>\n",
              "      <td>0.4601</td>\n",
              "      <td>0.11890</td>\n",
              "      <td>0</td>\n",
              "    </tr>\n",
              "    <tr>\n",
              "      <th>1</th>\n",
              "      <td>20.57</td>\n",
              "      <td>17.77</td>\n",
              "      <td>132.90</td>\n",
              "      <td>1326.0</td>\n",
              "      <td>0.08474</td>\n",
              "      <td>0.07864</td>\n",
              "      <td>0.0869</td>\n",
              "      <td>0.07017</td>\n",
              "      <td>0.1812</td>\n",
              "      <td>0.05667</td>\n",
              "      <td>0.5435</td>\n",
              "      <td>0.7339</td>\n",
              "      <td>3.398</td>\n",
              "      <td>74.08</td>\n",
              "      <td>0.005225</td>\n",
              "      <td>0.01308</td>\n",
              "      <td>0.01860</td>\n",
              "      <td>0.01340</td>\n",
              "      <td>0.01389</td>\n",
              "      <td>0.003532</td>\n",
              "      <td>24.99</td>\n",
              "      <td>23.41</td>\n",
              "      <td>158.80</td>\n",
              "      <td>1956.0</td>\n",
              "      <td>0.1238</td>\n",
              "      <td>0.1866</td>\n",
              "      <td>0.2416</td>\n",
              "      <td>0.1860</td>\n",
              "      <td>0.2750</td>\n",
              "      <td>0.08902</td>\n",
              "      <td>0</td>\n",
              "    </tr>\n",
              "    <tr>\n",
              "      <th>2</th>\n",
              "      <td>19.69</td>\n",
              "      <td>21.25</td>\n",
              "      <td>130.00</td>\n",
              "      <td>1203.0</td>\n",
              "      <td>0.10960</td>\n",
              "      <td>0.15990</td>\n",
              "      <td>0.1974</td>\n",
              "      <td>0.12790</td>\n",
              "      <td>0.2069</td>\n",
              "      <td>0.05999</td>\n",
              "      <td>0.7456</td>\n",
              "      <td>0.7869</td>\n",
              "      <td>4.585</td>\n",
              "      <td>94.03</td>\n",
              "      <td>0.006150</td>\n",
              "      <td>0.04006</td>\n",
              "      <td>0.03832</td>\n",
              "      <td>0.02058</td>\n",
              "      <td>0.02250</td>\n",
              "      <td>0.004571</td>\n",
              "      <td>23.57</td>\n",
              "      <td>25.53</td>\n",
              "      <td>152.50</td>\n",
              "      <td>1709.0</td>\n",
              "      <td>0.1444</td>\n",
              "      <td>0.4245</td>\n",
              "      <td>0.4504</td>\n",
              "      <td>0.2430</td>\n",
              "      <td>0.3613</td>\n",
              "      <td>0.08758</td>\n",
              "      <td>0</td>\n",
              "    </tr>\n",
              "    <tr>\n",
              "      <th>3</th>\n",
              "      <td>11.42</td>\n",
              "      <td>20.38</td>\n",
              "      <td>77.58</td>\n",
              "      <td>386.1</td>\n",
              "      <td>0.14250</td>\n",
              "      <td>0.28390</td>\n",
              "      <td>0.2414</td>\n",
              "      <td>0.10520</td>\n",
              "      <td>0.2597</td>\n",
              "      <td>0.09744</td>\n",
              "      <td>0.4956</td>\n",
              "      <td>1.1560</td>\n",
              "      <td>3.445</td>\n",
              "      <td>27.23</td>\n",
              "      <td>0.009110</td>\n",
              "      <td>0.07458</td>\n",
              "      <td>0.05661</td>\n",
              "      <td>0.01867</td>\n",
              "      <td>0.05963</td>\n",
              "      <td>0.009208</td>\n",
              "      <td>14.91</td>\n",
              "      <td>26.50</td>\n",
              "      <td>98.87</td>\n",
              "      <td>567.7</td>\n",
              "      <td>0.2098</td>\n",
              "      <td>0.8663</td>\n",
              "      <td>0.6869</td>\n",
              "      <td>0.2575</td>\n",
              "      <td>0.6638</td>\n",
              "      <td>0.17300</td>\n",
              "      <td>0</td>\n",
              "    </tr>\n",
              "    <tr>\n",
              "      <th>4</th>\n",
              "      <td>20.29</td>\n",
              "      <td>14.34</td>\n",
              "      <td>135.10</td>\n",
              "      <td>1297.0</td>\n",
              "      <td>0.10030</td>\n",
              "      <td>0.13280</td>\n",
              "      <td>0.1980</td>\n",
              "      <td>0.10430</td>\n",
              "      <td>0.1809</td>\n",
              "      <td>0.05883</td>\n",
              "      <td>0.7572</td>\n",
              "      <td>0.7813</td>\n",
              "      <td>5.438</td>\n",
              "      <td>94.44</td>\n",
              "      <td>0.011490</td>\n",
              "      <td>0.02461</td>\n",
              "      <td>0.05688</td>\n",
              "      <td>0.01885</td>\n",
              "      <td>0.01756</td>\n",
              "      <td>0.005115</td>\n",
              "      <td>22.54</td>\n",
              "      <td>16.67</td>\n",
              "      <td>152.20</td>\n",
              "      <td>1575.0</td>\n",
              "      <td>0.1374</td>\n",
              "      <td>0.2050</td>\n",
              "      <td>0.4000</td>\n",
              "      <td>0.1625</td>\n",
              "      <td>0.2364</td>\n",
              "      <td>0.07678</td>\n",
              "      <td>0</td>\n",
              "    </tr>\n",
              "  </tbody>\n",
              "</table>\n",
              "</div>"
            ],
            "text/plain": [
              "   mean_radius  mean_texture  ...  worst_fractal_dimension  label\n",
              "0        17.99         10.38  ...                  0.11890      0\n",
              "1        20.57         17.77  ...                  0.08902      0\n",
              "2        19.69         21.25  ...                  0.08758      0\n",
              "3        11.42         20.38  ...                  0.17300      0\n",
              "4        20.29         14.34  ...                  0.07678      0\n",
              "\n",
              "[5 rows x 31 columns]"
            ]
          },
          "metadata": {
            "tags": []
          },
          "execution_count": 72
        }
      ]
    },
    {
      "cell_type": "code",
      "metadata": {
        "id": "H341xvbXENWy",
        "colab": {
          "base_uri": "https://localhost:8080/"
        },
        "outputId": "393fa11a-aa5a-4d50-bb80-3c210cdc5b54"
      },
      "source": [
        "df.columns"
      ],
      "execution_count": null,
      "outputs": [
        {
          "output_type": "execute_result",
          "data": {
            "text/plain": [
              "Index(['mean_radius', 'mean_texture', 'mean_perimeter', 'mean_area',\n",
              "       'mean_smoothness', 'mean_compactness', 'mean_concavity',\n",
              "       'mean_concave_points', 'mean_symmetry', 'mean_fractal_dimension',\n",
              "       'radius_error', 'texture_error', 'perimeter_error', 'area_error',\n",
              "       'smoothness_error', 'compactness_error', 'concavity_error',\n",
              "       'concave_points_error', 'symmetry_error', 'fractal_dimension_error',\n",
              "       'worst_radius', 'worst_texture', 'worst_perimeter', 'worst_area',\n",
              "       'worst_smoothness', 'worst_compactness', 'worst_concavity',\n",
              "       'worst_concave_points', 'worst_symmetry', 'worst_fractal_dimension',\n",
              "       'label'],\n",
              "      dtype='object')"
            ]
          },
          "metadata": {
            "tags": []
          },
          "execution_count": 73
        }
      ]
    },
    {
      "cell_type": "markdown",
      "metadata": {
        "id": "f87Dkb6UENWy"
      },
      "source": [
        "## **[변수 설명]** \n",
        "radius : 반경(중심에서 외벽까지 거리들이 평균값) <br>\n",
        "texture : 질감 <br>\n",
        "perimeter : 둘레 <br>\n",
        "area : 면적 <br>\n",
        "smoothness : 매끄러움 <br>\n",
        "compactness : 조그만 정도<br>\n",
        "concavity : 오목함(윤곽의 오목한 부분의 정도)<br>\n",
        "points : 오목한 점의 수<br>\n",
        "symmetry : 대칭<br>\n",
        "dimension : 프랙탈 차원<br>"
      ]
    },
    {
      "cell_type": "code",
      "metadata": {
        "id": "Gq7hhc9MENWy"
      },
      "source": [
        "# 이번엔 mean이 들어간 변수만 사용해보겠습니다!\n",
        "# mean이 들어간 변수만 따로 뽑아 X와 Y데이터를 만들어주세요.\n",
        "X = df.iloc[:,0:10]\n",
        "Y = df['label']"
      ],
      "execution_count": null,
      "outputs": []
    },
    {
      "cell_type": "code",
      "metadata": {
        "id": "wPT0kSecENWz",
        "colab": {
          "base_uri": "https://localhost:8080/",
          "height": 216
        },
        "outputId": "b0c7bc8f-651c-436f-cc8a-f016bf4d22ff"
      },
      "source": [
        "X.head()"
      ],
      "execution_count": null,
      "outputs": [
        {
          "output_type": "execute_result",
          "data": {
            "text/html": [
              "<div>\n",
              "<style scoped>\n",
              "    .dataframe tbody tr th:only-of-type {\n",
              "        vertical-align: middle;\n",
              "    }\n",
              "\n",
              "    .dataframe tbody tr th {\n",
              "        vertical-align: top;\n",
              "    }\n",
              "\n",
              "    .dataframe thead th {\n",
              "        text-align: right;\n",
              "    }\n",
              "</style>\n",
              "<table border=\"1\" class=\"dataframe\">\n",
              "  <thead>\n",
              "    <tr style=\"text-align: right;\">\n",
              "      <th></th>\n",
              "      <th>mean_radius</th>\n",
              "      <th>mean_texture</th>\n",
              "      <th>mean_perimeter</th>\n",
              "      <th>mean_area</th>\n",
              "      <th>mean_smoothness</th>\n",
              "      <th>mean_compactness</th>\n",
              "      <th>mean_concavity</th>\n",
              "      <th>mean_concave_points</th>\n",
              "      <th>mean_symmetry</th>\n",
              "      <th>mean_fractal_dimension</th>\n",
              "    </tr>\n",
              "  </thead>\n",
              "  <tbody>\n",
              "    <tr>\n",
              "      <th>0</th>\n",
              "      <td>17.99</td>\n",
              "      <td>10.38</td>\n",
              "      <td>122.80</td>\n",
              "      <td>1001.0</td>\n",
              "      <td>0.11840</td>\n",
              "      <td>0.27760</td>\n",
              "      <td>0.3001</td>\n",
              "      <td>0.14710</td>\n",
              "      <td>0.2419</td>\n",
              "      <td>0.07871</td>\n",
              "    </tr>\n",
              "    <tr>\n",
              "      <th>1</th>\n",
              "      <td>20.57</td>\n",
              "      <td>17.77</td>\n",
              "      <td>132.90</td>\n",
              "      <td>1326.0</td>\n",
              "      <td>0.08474</td>\n",
              "      <td>0.07864</td>\n",
              "      <td>0.0869</td>\n",
              "      <td>0.07017</td>\n",
              "      <td>0.1812</td>\n",
              "      <td>0.05667</td>\n",
              "    </tr>\n",
              "    <tr>\n",
              "      <th>2</th>\n",
              "      <td>19.69</td>\n",
              "      <td>21.25</td>\n",
              "      <td>130.00</td>\n",
              "      <td>1203.0</td>\n",
              "      <td>0.10960</td>\n",
              "      <td>0.15990</td>\n",
              "      <td>0.1974</td>\n",
              "      <td>0.12790</td>\n",
              "      <td>0.2069</td>\n",
              "      <td>0.05999</td>\n",
              "    </tr>\n",
              "    <tr>\n",
              "      <th>3</th>\n",
              "      <td>11.42</td>\n",
              "      <td>20.38</td>\n",
              "      <td>77.58</td>\n",
              "      <td>386.1</td>\n",
              "      <td>0.14250</td>\n",
              "      <td>0.28390</td>\n",
              "      <td>0.2414</td>\n",
              "      <td>0.10520</td>\n",
              "      <td>0.2597</td>\n",
              "      <td>0.09744</td>\n",
              "    </tr>\n",
              "    <tr>\n",
              "      <th>4</th>\n",
              "      <td>20.29</td>\n",
              "      <td>14.34</td>\n",
              "      <td>135.10</td>\n",
              "      <td>1297.0</td>\n",
              "      <td>0.10030</td>\n",
              "      <td>0.13280</td>\n",
              "      <td>0.1980</td>\n",
              "      <td>0.10430</td>\n",
              "      <td>0.1809</td>\n",
              "      <td>0.05883</td>\n",
              "    </tr>\n",
              "  </tbody>\n",
              "</table>\n",
              "</div>"
            ],
            "text/plain": [
              "   mean_radius  mean_texture  ...  mean_symmetry  mean_fractal_dimension\n",
              "0        17.99         10.38  ...         0.2419                 0.07871\n",
              "1        20.57         17.77  ...         0.1812                 0.05667\n",
              "2        19.69         21.25  ...         0.2069                 0.05999\n",
              "3        11.42         20.38  ...         0.2597                 0.09744\n",
              "4        20.29         14.34  ...         0.1809                 0.05883\n",
              "\n",
              "[5 rows x 10 columns]"
            ]
          },
          "metadata": {
            "tags": []
          },
          "execution_count": 75
        }
      ]
    },
    {
      "cell_type": "markdown",
      "metadata": {
        "id": "6v-SBkGVENWz"
      },
      "source": [
        "**Heatmap을 통해 X변수 간 상관관계를 확인해보세요!**"
      ]
    },
    {
      "cell_type": "code",
      "metadata": {
        "id": "WISbnn-LENWz",
        "colab": {
          "base_uri": "https://localhost:8080/",
          "height": 399
        },
        "outputId": "9ceedd36-49cd-47d6-9ba5-668898888ce8"
      },
      "source": [
        "# heatmap을 통해 상관관계 확인\n",
        "import seaborn as sns    \n",
        "sns.heatmap(data = X.corr(), annot=True )"
      ],
      "execution_count": null,
      "outputs": [
        {
          "output_type": "execute_result",
          "data": {
            "text/plain": [
              "<matplotlib.axes._subplots.AxesSubplot at 0x7f6b16403b38>"
            ]
          },
          "metadata": {
            "tags": []
          },
          "execution_count": 76
        },
        {
          "output_type": "display_data",
          "data": {
            "image/png": "[encoded data removed]",
            "text/plain": [
              "<Figure size 432x288 with 2 Axes>"
            ]
          },
          "metadata": {
            "tags": [],
            "needs_background": "light"
          }
        }
      ]
    },
    {
      "cell_type": "code",
      "metadata": {
        "id": "_WDQ4wcV_aeX"
      },
      "source": [
        ""
      ],
      "execution_count": null,
      "outputs": []
    },
    {
      "cell_type": "markdown",
      "metadata": {
        "id": "qz2HltFFENWz"
      },
      "source": [
        "**강한 상관관계가 있는 변수들을 적어보세요!\n",
        "그리고 다중공선성과 그로 인한 문제에 대해 서술해주세요.**\n",
        "1. 다중공선성은 선형회귀모델에서 독립변수간에 상관관계가 강한 것으로, 다중공선성 문제로 인해 모델에서 변수 각각의 설명력이 약해질 수 있습니다.\n",
        "\n",
        "2. 강한 상관관계를 가진 변수는 아래 DF와 같습니다. <br>\n",
        "\n",
        "Q. 이때, 중복행 (e.g., (A,B)와 (B,A)처럼 중복되는 행)을 삭제할 방법을 고민해봤는데 모르겠습니다. 😥"
      ]
    },
    {
      "cell_type": "code",
      "metadata": {
        "colab": {
          "base_uri": "https://localhost:8080/",
          "height": 584
        },
        "id": "Sg5_kJKa5WwC",
        "outputId": "8ccbce58-f206-44f9-e577-acf2eab39c2d"
      },
      "source": [
        "X_corr_stack = pd.DataFrame(X.corr().stack(-1), columns=['corr'])\r\n",
        "X_corr_stack_high = X_corr_stack[(X_corr_stack['corr']>0.8) & (X_corr_stack['corr']!=1.0)]\r\n",
        "X_corr_stack_high"
      ],
      "execution_count": null,
      "outputs": [
        {
          "output_type": "execute_result",
          "data": {
            "text/html": [
              "<div>\n",
              "<style scoped>\n",
              "    .dataframe tbody tr th:only-of-type {\n",
              "        vertical-align: middle;\n",
              "    }\n",
              "\n",
              "    .dataframe tbody tr th {\n",
              "        vertical-align: top;\n",
              "    }\n",
              "\n",
              "    .dataframe thead th {\n",
              "        text-align: right;\n",
              "    }\n",
              "</style>\n",
              "<table border=\"1\" class=\"dataframe\">\n",
              "  <thead>\n",
              "    <tr style=\"text-align: right;\">\n",
              "      <th></th>\n",
              "      <th></th>\n",
              "      <th>corr</th>\n",
              "    </tr>\n",
              "  </thead>\n",
              "  <tbody>\n",
              "    <tr>\n",
              "      <th rowspan=\"3\" valign=\"top\">mean_radius</th>\n",
              "      <th>mean_perimeter</th>\n",
              "      <td>0.997855</td>\n",
              "    </tr>\n",
              "    <tr>\n",
              "      <th>mean_area</th>\n",
              "      <td>0.987357</td>\n",
              "    </tr>\n",
              "    <tr>\n",
              "      <th>mean_concave_points</th>\n",
              "      <td>0.822529</td>\n",
              "    </tr>\n",
              "    <tr>\n",
              "      <th rowspan=\"3\" valign=\"top\">mean_perimeter</th>\n",
              "      <th>mean_radius</th>\n",
              "      <td>0.997855</td>\n",
              "    </tr>\n",
              "    <tr>\n",
              "      <th>mean_area</th>\n",
              "      <td>0.986507</td>\n",
              "    </tr>\n",
              "    <tr>\n",
              "      <th>mean_concave_points</th>\n",
              "      <td>0.850977</td>\n",
              "    </tr>\n",
              "    <tr>\n",
              "      <th rowspan=\"3\" valign=\"top\">mean_area</th>\n",
              "      <th>mean_radius</th>\n",
              "      <td>0.987357</td>\n",
              "    </tr>\n",
              "    <tr>\n",
              "      <th>mean_perimeter</th>\n",
              "      <td>0.986507</td>\n",
              "    </tr>\n",
              "    <tr>\n",
              "      <th>mean_concave_points</th>\n",
              "      <td>0.823269</td>\n",
              "    </tr>\n",
              "    <tr>\n",
              "      <th rowspan=\"2\" valign=\"top\">mean_compactness</th>\n",
              "      <th>mean_concavity</th>\n",
              "      <td>0.883121</td>\n",
              "    </tr>\n",
              "    <tr>\n",
              "      <th>mean_concave_points</th>\n",
              "      <td>0.831135</td>\n",
              "    </tr>\n",
              "    <tr>\n",
              "      <th rowspan=\"2\" valign=\"top\">mean_concavity</th>\n",
              "      <th>mean_compactness</th>\n",
              "      <td>0.883121</td>\n",
              "    </tr>\n",
              "    <tr>\n",
              "      <th>mean_concave_points</th>\n",
              "      <td>0.921391</td>\n",
              "    </tr>\n",
              "    <tr>\n",
              "      <th rowspan=\"5\" valign=\"top\">mean_concave_points</th>\n",
              "      <th>mean_radius</th>\n",
              "      <td>0.822529</td>\n",
              "    </tr>\n",
              "    <tr>\n",
              "      <th>mean_perimeter</th>\n",
              "      <td>0.850977</td>\n",
              "    </tr>\n",
              "    <tr>\n",
              "      <th>mean_area</th>\n",
              "      <td>0.823269</td>\n",
              "    </tr>\n",
              "    <tr>\n",
              "      <th>mean_compactness</th>\n",
              "      <td>0.831135</td>\n",
              "    </tr>\n",
              "    <tr>\n",
              "      <th>mean_concavity</th>\n",
              "      <td>0.921391</td>\n",
              "    </tr>\n",
              "  </tbody>\n",
              "</table>\n",
              "</div>"
            ],
            "text/plain": [
              "                                             corr\n",
              "mean_radius         mean_perimeter       0.997855\n",
              "                    mean_area            0.987357\n",
              "                    mean_concave_points  0.822529\n",
              "mean_perimeter      mean_radius          0.997855\n",
              "                    mean_area            0.986507\n",
              "                    mean_concave_points  0.850977\n",
              "mean_area           mean_radius          0.987357\n",
              "                    mean_perimeter       0.986507\n",
              "                    mean_concave_points  0.823269\n",
              "mean_compactness    mean_concavity       0.883121\n",
              "                    mean_concave_points  0.831135\n",
              "mean_concavity      mean_compactness     0.883121\n",
              "                    mean_concave_points  0.921391\n",
              "mean_concave_points mean_radius          0.822529\n",
              "                    mean_perimeter       0.850977\n",
              "                    mean_area            0.823269\n",
              "                    mean_compactness     0.831135\n",
              "                    mean_concavity       0.921391"
            ]
          },
          "metadata": {
            "tags": []
          },
          "execution_count": 77
        }
      ]
    },
    {
      "cell_type": "markdown",
      "metadata": {
        "id": "sNVFQkqGENW0"
      },
      "source": [
        "**강한 상관관계를 가진 변수 중 일부 변수를 선택하여 X 변수를 다시 만들어주세요.**"
      ]
    },
    {
      "cell_type": "code",
      "metadata": {
        "id": "fC8Rmz2vENW0"
      },
      "source": [
        "from sklearn.model_selection import train_test_split\n",
        "X = X[['mean_radius','mean_area','mean_perimeter']]\n",
        "# 학습 데이터와 테스트 데이터 분할\n",
        "X_tr,X_te,Y_tr,Y_te = train_test_split(X, Y, test_size=0.3, random_state=1)"
      ],
      "execution_count": null,
      "outputs": []
    },
    {
      "cell_type": "markdown",
      "metadata": {
        "id": "z2T43t7jENW0"
      },
      "source": [
        "**로지스틱 회귀 모델 생성 후, test data에 대해 예측을 수행해주세요.**"
      ]
    },
    {
      "cell_type": "code",
      "metadata": {
        "id": "mQKAlAq0ENW1"
      },
      "source": [
        "from sklearn.linear_model import LogisticRegression\n",
        "LR = LogisticRegression()\n",
        "LR.fit(X_tr, Y_tr)\n",
        "Y_pre = LR.predict(X_te)"
      ],
      "execution_count": null,
      "outputs": []
    },
    {
      "cell_type": "markdown",
      "metadata": {
        "id": "1qXDrAuBENW1"
      },
      "source": [
        "**Confusion Matrix를 구하고 이를 이용하여 accuracy, precision, recall을 직접 구해보세요!**"
      ]
    },
    {
      "cell_type": "code",
      "metadata": {
        "id": "2frVwYGOENW1"
      },
      "source": [
        "from sklearn.metrics import confusion_matrix"
      ],
      "execution_count": null,
      "outputs": []
    },
    {
      "cell_type": "code",
      "metadata": {
        "colab": {
          "base_uri": "https://localhost:8080/"
        },
        "id": "Gb1pr8BkgdKn",
        "outputId": "f47c871c-a1c5-4383-9722-f7415b658973"
      },
      "source": [
        " confusion_matrix(Y_te, Y_pre)"
      ],
      "execution_count": null,
      "outputs": [
        {
          "output_type": "execute_result",
          "data": {
            "text/plain": [
              "array([[ 48,  15],\n",
              "       [  8, 100]])"
            ]
          },
          "metadata": {
            "tags": []
          },
          "execution_count": 81
        }
      ]
    },
    {
      "cell_type": "code",
      "metadata": {
        "id": "Uq71xWkmENW1",
        "colab": {
          "base_uri": "https://localhost:8080/"
        },
        "outputId": "728f940f-d240-4d05-a74e-dc37847aceac"
      },
      "source": [
        "# accuracy = (TP+TN)/(TP+TN+FP+FN)\r\n",
        "accuracy = (48+100) / (48+15+8+100) ; accuracy"
      ],
      "execution_count": null,
      "outputs": [
        {
          "output_type": "execute_result",
          "data": {
            "text/plain": [
              "0.8654970760233918"
            ]
          },
          "metadata": {
            "tags": []
          },
          "execution_count": 82
        }
      ]
    },
    {
      "cell_type": "code",
      "metadata": {
        "id": "m-nhCi-UENW1",
        "colab": {
          "base_uri": "https://localhost:8080/"
        },
        "outputId": "76f394ae-24af-48e7-c34a-8a3334f91c05"
      },
      "source": [
        "# precision = (TP)/(TP+FP)\r\n",
        "precision = 100 / (15+100) ; precision"
      ],
      "execution_count": null,
      "outputs": [
        {
          "output_type": "execute_result",
          "data": {
            "text/plain": [
              "0.8695652173913043"
            ]
          },
          "metadata": {
            "tags": []
          },
          "execution_count": 83
        }
      ]
    },
    {
      "cell_type": "code",
      "metadata": {
        "id": "anQCQr9eENW2",
        "colab": {
          "base_uri": "https://localhost:8080/"
        },
        "outputId": "1b85ca67-622a-4b20-d53a-ac6e7a14019e"
      },
      "source": [
        "# recall = (TP)/(TP+FN)\r\n",
        "recall = 100 / (8+100) ; recall"
      ],
      "execution_count": null,
      "outputs": [
        {
          "output_type": "execute_result",
          "data": {
            "text/plain": [
              "0.9259259259259259"
            ]
          },
          "metadata": {
            "tags": []
          },
          "execution_count": 84
        }
      ]
    },
    {
      "cell_type": "markdown",
      "metadata": {
        "id": "bQ1xZequENW2"
      },
      "source": [
        "**회귀계수를 구해보고 그 중 변수 2개를 골라 결과를 해석해보세요! (logit관점/odds관점) **\n",
        "\n",
        "[답] <br> \n",
        "1. logit 관점<br> \n",
        "1) mean_radius가 1만큼 증가하면 logit은 3.9만큼 증가한다.<br> \n",
        "2) mean_area가 1만큼 증가하면 logit은 0.02만큼 감소한다.<br>\n",
        "\n",
        "2. odds 관점 <br>\n",
        "1) mean_radius가 1만큼 증가하면  label이 1일 확률은 49.26만큼 증가한다.<br> \n",
        "2) mean_area가 1만큼 증가하면  label이 1일 확률 0.98만큼 증가한다.<br>\n"
      ]
    },
    {
      "cell_type": "code",
      "metadata": {
        "id": "2aVy5aFdENW2",
        "colab": {
          "base_uri": "https://localhost:8080/"
        },
        "outputId": "9160c48b-efc5-434d-c697-0f95b7bcca0c"
      },
      "source": [
        "# 로지스틱 회귀의 회귀계수\r\n",
        "print(X.columns)\r\n",
        "print(\"회귀계수:\", LR.coef_.round(2))\r\n",
        "print(\"odds:\", np.exp(LR.coef_).round(2))"
      ],
      "execution_count": null,
      "outputs": [
        {
          "output_type": "stream",
          "text": [
            "Index(['mean_radius', 'mean_area', 'mean_perimeter'], dtype='object')\n",
            "회귀계수: [[ 3.9  -0.02 -0.46]]\n",
            "odds: [[49.26  0.98  0.63]]\n"
          ],
          "name": "stdout"
        }
      ]
    },
    {
      "cell_type": "markdown",
      "metadata": {
        "id": "Su7MfvzhENW2"
      },
      "source": [
        "### 주어진 데이터셋을 이용하여 주어진 문제를 해결해주세요."
      ]
    },
    {
      "cell_type": "code",
      "metadata": {
        "id": "EYk2_xVGENW2"
      },
      "source": [
        "import pandas as pd\n",
        "import numpy as np\n",
        "from sklearn.linear_model import LinearRegression\n",
        "from sklearn.linear_model import Ridge\n",
        "from sklearn.linear_model import Lasso\n",
        "from sklearn.model_selection import train_test_split\n",
        "from sklearn.metrics import mean_squared_error"
      ],
      "execution_count": null,
      "outputs": []
    },
    {
      "cell_type": "markdown",
      "metadata": {
        "id": "pFq9iTaoENW3"
      },
      "source": [
        "## - Feature Scaling"
      ]
    },
    {
      "cell_type": "code",
      "metadata": {
        "id": "_lugGoQ8ENW3",
        "colab": {
          "base_uri": "https://localhost:8080/",
          "height": 404
        },
        "outputId": "2bb4e215-f088-437a-9150-591524832914"
      },
      "source": [
        "from sklearn.datasets import load_iris\n",
        "\n",
        "#iris 데이터셋 로드\n",
        "iris=load_iris()\n",
        "iris_data=iris.data\n",
        "iris_df=pd.DataFrame(data=iris_data, columns=iris.feature_names)\n",
        "\n",
        "iris_df"
      ],
      "execution_count": null,
      "outputs": [
        {
          "output_type": "execute_result",
          "data": {
            "text/html": [
              "<div>\n",
              "<style scoped>\n",
              "    .dataframe tbody tr th:only-of-type {\n",
              "        vertical-align: middle;\n",
              "    }\n",
              "\n",
              "    .dataframe tbody tr th {\n",
              "        vertical-align: top;\n",
              "    }\n",
              "\n",
              "    .dataframe thead th {\n",
              "        text-align: right;\n",
              "    }\n",
              "</style>\n",
              "<table border=\"1\" class=\"dataframe\">\n",
              "  <thead>\n",
              "    <tr style=\"text-align: right;\">\n",
              "      <th></th>\n",
              "      <th>sepal length (cm)</th>\n",
              "      <th>sepal width (cm)</th>\n",
              "      <th>petal length (cm)</th>\n",
              "      <th>petal width (cm)</th>\n",
              "    </tr>\n",
              "  </thead>\n",
              "  <tbody>\n",
              "    <tr>\n",
              "      <th>0</th>\n",
              "      <td>5.1</td>\n",
              "      <td>3.5</td>\n",
              "      <td>1.4</td>\n",
              "      <td>0.2</td>\n",
              "    </tr>\n",
              "    <tr>\n",
              "      <th>1</th>\n",
              "      <td>4.9</td>\n",
              "      <td>3.0</td>\n",
              "      <td>1.4</td>\n",
              "      <td>0.2</td>\n",
              "    </tr>\n",
              "    <tr>\n",
              "      <th>2</th>\n",
              "      <td>4.7</td>\n",
              "      <td>3.2</td>\n",
              "      <td>1.3</td>\n",
              "      <td>0.2</td>\n",
              "    </tr>\n",
              "    <tr>\n",
              "      <th>3</th>\n",
              "      <td>4.6</td>\n",
              "      <td>3.1</td>\n",
              "      <td>1.5</td>\n",
              "      <td>0.2</td>\n",
              "    </tr>\n",
              "    <tr>\n",
              "      <th>4</th>\n",
              "      <td>5.0</td>\n",
              "      <td>3.6</td>\n",
              "      <td>1.4</td>\n",
              "      <td>0.2</td>\n",
              "    </tr>\n",
              "    <tr>\n",
              "      <th>...</th>\n",
              "      <td>...</td>\n",
              "      <td>...</td>\n",
              "      <td>...</td>\n",
              "      <td>...</td>\n",
              "    </tr>\n",
              "    <tr>\n",
              "      <th>145</th>\n",
              "      <td>6.7</td>\n",
              "      <td>3.0</td>\n",
              "      <td>5.2</td>\n",
              "      <td>2.3</td>\n",
              "    </tr>\n",
              "    <tr>\n",
              "      <th>146</th>\n",
              "      <td>6.3</td>\n",
              "      <td>2.5</td>\n",
              "      <td>5.0</td>\n",
              "      <td>1.9</td>\n",
              "    </tr>\n",
              "    <tr>\n",
              "      <th>147</th>\n",
              "      <td>6.5</td>\n",
              "      <td>3.0</td>\n",
              "      <td>5.2</td>\n",
              "      <td>2.0</td>\n",
              "    </tr>\n",
              "    <tr>\n",
              "      <th>148</th>\n",
              "      <td>6.2</td>\n",
              "      <td>3.4</td>\n",
              "      <td>5.4</td>\n",
              "      <td>2.3</td>\n",
              "    </tr>\n",
              "    <tr>\n",
              "      <th>149</th>\n",
              "      <td>5.9</td>\n",
              "      <td>3.0</td>\n",
              "      <td>5.1</td>\n",
              "      <td>1.8</td>\n",
              "    </tr>\n",
              "  </tbody>\n",
              "</table>\n",
              "<p>150 rows × 4 columns</p>\n",
              "</div>"
            ],
            "text/plain": [
              "     sepal length (cm)  sepal width (cm)  petal length (cm)  petal width (cm)\n",
              "0                  5.1               3.5                1.4               0.2\n",
              "1                  4.9               3.0                1.4               0.2\n",
              "2                  4.7               3.2                1.3               0.2\n",
              "3                  4.6               3.1                1.5               0.2\n",
              "4                  5.0               3.6                1.4               0.2\n",
              "..                 ...               ...                ...               ...\n",
              "145                6.7               3.0                5.2               2.3\n",
              "146                6.3               2.5                5.0               1.9\n",
              "147                6.5               3.0                5.2               2.0\n",
              "148                6.2               3.4                5.4               2.3\n",
              "149                5.9               3.0                5.1               1.8\n",
              "\n",
              "[150 rows x 4 columns]"
            ]
          },
          "metadata": {
            "tags": []
          },
          "execution_count": 87
        }
      ]
    },
    {
      "cell_type": "markdown",
      "metadata": {
        "id": "6bYFXYNYENW3"
      },
      "source": [
        "#### 1. iris 데이터셋에 MinMaxScaler를 적용하고 각 칼럼별 평균과 분산을 구하세요."
      ]
    },
    {
      "cell_type": "code",
      "metadata": {
        "id": "xSzmJ_gKENW3",
        "colab": {
          "base_uri": "https://localhost:8080/"
        },
        "outputId": "8e44929d-eea5-473a-dedd-9d900c822a1d"
      },
      "source": [
        "from sklearn.preprocessing import MinMaxScaler\n",
        "minmax = MinMaxScaler()\n",
        "minmax.fit(iris_df)\n",
        "iris_scaled = minmax.transform(iris_df)\n",
        "iris_scaled_df = pd.DataFrame(data=iris_scaled, columns=iris.feature_names)\n",
        "\n",
        "print(\"feature 평균\")\n",
        "print(iris_scaled_df.mean())\n",
        "print(\"feature 분산\")\n",
        "print(iris_scaled_df.var())\n"
      ],
      "execution_count": null,
      "outputs": [
        {
          "output_type": "stream",
          "text": [
            "feature 평균\n",
            "sepal length (cm)    0.428704\n",
            "sepal width (cm)     0.440556\n",
            "petal length (cm)    0.467458\n",
            "petal width (cm)     0.458056\n",
            "dtype: float64\n",
            "feature 분산\n",
            "sepal length (cm)    0.052908\n",
            "sepal width (cm)     0.032983\n",
            "petal length (cm)    0.089522\n",
            "petal width (cm)     0.100869\n",
            "dtype: float64\n"
          ],
          "name": "stdout"
        }
      ]
    },
    {
      "cell_type": "markdown",
      "metadata": {
        "id": "b6cpdAh5ENW4"
      },
      "source": [
        "#### 2. iris 데이터셋에 StandardScaler를 적용하고 각 칼럼별 평균과 분산을 구하세요."
      ]
    },
    {
      "cell_type": "code",
      "metadata": {
        "id": "hDCQ559pENW4",
        "colab": {
          "base_uri": "https://localhost:8080/"
        },
        "outputId": "8dcaa329-80cb-47be-e5b2-b2612d18b310"
      },
      "source": [
        "from sklearn.preprocessing import StandardScaler\n",
        "\n",
        "std = StandardScaler()\n",
        "std.fit(iris_df)\n",
        "iris_scaled = std.transform(iris_df)\n",
        "iris_scaled_df = pd.DataFrame(data=iris_scaled, columns=iris.feature_names)\n",
        "\n",
        "print(\"feature 평균\")\n",
        "print(iris_scaled_df.mean())\n",
        "print(\"feature 분산\")\n",
        "print(iris_scaled_df.var())\n"
      ],
      "execution_count": null,
      "outputs": [
        {
          "output_type": "stream",
          "text": [
            "feature 평균\n",
            "sepal length (cm)   -1.690315e-15\n",
            "sepal width (cm)    -1.842970e-15\n",
            "petal length (cm)   -1.698641e-15\n",
            "petal width (cm)    -1.409243e-15\n",
            "dtype: float64\n",
            "feature 분산\n",
            "sepal length (cm)    1.006711\n",
            "sepal width (cm)     1.006711\n",
            "petal length (cm)    1.006711\n",
            "petal width (cm)     1.006711\n",
            "dtype: float64\n"
          ],
          "name": "stdout"
        }
      ]
    },
    {
      "cell_type": "markdown",
      "metadata": {
        "id": "snA4oBMqENW5"
      },
      "source": [
        "#### 3. normalization과 standardization의 차이점을 설명하세요."
      ]
    },
    {
      "cell_type": "markdown",
      "metadata": {
        "id": "ZsUhjYtswZjk"
      },
      "source": [
        "normalization과 standardization은 모두 스케일이 다른 피쳐들의 영향력 비슷한 수준으로 맞춰 모델에 반영하기 위한 전처리방법이다. <br>\r\n",
        "normalization(정규화)는 일반적으로 최대값과 최소값 1과 0로 변환하는 것으로, 데이터의 위치를 파악하기 용이하다. <br>\r\n",
        "standardization(표준화)는 평균이 0이고 표준편차가 1인 정규분포를 따르도록 피쳐의 스케일을 변환하는 것으로, 이상치를 확인하기 용이하다."
      ]
    },
    {
      "cell_type": "markdown",
      "metadata": {
        "id": "rP1z4WDTENW6"
      },
      "source": [
        "## - Regularization"
      ]
    },
    {
      "cell_type": "code",
      "metadata": {
        "id": "AFd9ASQWENW6",
        "colab": {
          "base_uri": "https://localhost:8080/",
          "height": 404
        },
        "outputId": "ac86af32-a2d6-423e-b936-5e70099777df"
      },
      "source": [
        "from sklearn.datasets import load_boston\n",
        "\n",
        "#boston 집값 데이터셋 로드\n",
        "boston=load_boston()\n",
        "boston_price=boston.target\n",
        "boston_data=boston.data\n",
        "boston_df=pd.DataFrame(data=boston_data, columns=boston.feature_names)\n",
        "\n",
        "boston_df"
      ],
      "execution_count": null,
      "outputs": [
        {
          "output_type": "execute_result",
          "data": {
            "text/html": [
              "<div>\n",
              "<style scoped>\n",
              "    .dataframe tbody tr th:only-of-type {\n",
              "        vertical-align: middle;\n",
              "    }\n",
              "\n",
              "    .dataframe tbody tr th {\n",
              "        vertical-align: top;\n",
              "    }\n",
              "\n",
              "    .dataframe thead th {\n",
              "        text-align: right;\n",
              "    }\n",
              "</style>\n",
              "<table border=\"1\" class=\"dataframe\">\n",
              "  <thead>\n",
              "    <tr style=\"text-align: right;\">\n",
              "      <th></th>\n",
              "      <th>CRIM</th>\n",
              "      <th>ZN</th>\n",
              "      <th>INDUS</th>\n",
              "      <th>CHAS</th>\n",
              "      <th>NOX</th>\n",
              "      <th>RM</th>\n",
              "      <th>AGE</th>\n",
              "      <th>DIS</th>\n",
              "      <th>RAD</th>\n",
              "      <th>TAX</th>\n",
              "      <th>PTRATIO</th>\n",
              "      <th>B</th>\n",
              "      <th>LSTAT</th>\n",
              "    </tr>\n",
              "  </thead>\n",
              "  <tbody>\n",
              "    <tr>\n",
              "      <th>0</th>\n",
              "      <td>0.00632</td>\n",
              "      <td>18.0</td>\n",
              "      <td>2.31</td>\n",
              "      <td>0.0</td>\n",
              "      <td>0.538</td>\n",
              "      <td>6.575</td>\n",
              "      <td>65.2</td>\n",
              "      <td>4.0900</td>\n",
              "      <td>1.0</td>\n",
              "      <td>296.0</td>\n",
              "      <td>15.3</td>\n",
              "      <td>396.90</td>\n",
              "      <td>4.98</td>\n",
              "    </tr>\n",
              "    <tr>\n",
              "      <th>1</th>\n",
              "      <td>0.02731</td>\n",
              "      <td>0.0</td>\n",
              "      <td>7.07</td>\n",
              "      <td>0.0</td>\n",
              "      <td>0.469</td>\n",
              "      <td>6.421</td>\n",
              "      <td>78.9</td>\n",
              "      <td>4.9671</td>\n",
              "      <td>2.0</td>\n",
              "      <td>242.0</td>\n",
              "      <td>17.8</td>\n",
              "      <td>396.90</td>\n",
              "      <td>9.14</td>\n",
              "    </tr>\n",
              "    <tr>\n",
              "      <th>2</th>\n",
              "      <td>0.02729</td>\n",
              "      <td>0.0</td>\n",
              "      <td>7.07</td>\n",
              "      <td>0.0</td>\n",
              "      <td>0.469</td>\n",
              "      <td>7.185</td>\n",
              "      <td>61.1</td>\n",
              "      <td>4.9671</td>\n",
              "      <td>2.0</td>\n",
              "      <td>242.0</td>\n",
              "      <td>17.8</td>\n",
              "      <td>392.83</td>\n",
              "      <td>4.03</td>\n",
              "    </tr>\n",
              "    <tr>\n",
              "      <th>3</th>\n",
              "      <td>0.03237</td>\n",
              "      <td>0.0</td>\n",
              "      <td>2.18</td>\n",
              "      <td>0.0</td>\n",
              "      <td>0.458</td>\n",
              "      <td>6.998</td>\n",
              "      <td>45.8</td>\n",
              "      <td>6.0622</td>\n",
              "      <td>3.0</td>\n",
              "      <td>222.0</td>\n",
              "      <td>18.7</td>\n",
              "      <td>394.63</td>\n",
              "      <td>2.94</td>\n",
              "    </tr>\n",
              "    <tr>\n",
              "      <th>4</th>\n",
              "      <td>0.06905</td>\n",
              "      <td>0.0</td>\n",
              "      <td>2.18</td>\n",
              "      <td>0.0</td>\n",
              "      <td>0.458</td>\n",
              "      <td>7.147</td>\n",
              "      <td>54.2</td>\n",
              "      <td>6.0622</td>\n",
              "      <td>3.0</td>\n",
              "      <td>222.0</td>\n",
              "      <td>18.7</td>\n",
              "      <td>396.90</td>\n",
              "      <td>5.33</td>\n",
              "    </tr>\n",
              "    <tr>\n",
              "      <th>...</th>\n",
              "      <td>...</td>\n",
              "      <td>...</td>\n",
              "      <td>...</td>\n",
              "      <td>...</td>\n",
              "      <td>...</td>\n",
              "      <td>...</td>\n",
              "      <td>...</td>\n",
              "      <td>...</td>\n",
              "      <td>...</td>\n",
              "      <td>...</td>\n",
              "      <td>...</td>\n",
              "      <td>...</td>\n",
              "      <td>...</td>\n",
              "    </tr>\n",
              "    <tr>\n",
              "      <th>501</th>\n",
              "      <td>0.06263</td>\n",
              "      <td>0.0</td>\n",
              "      <td>11.93</td>\n",
              "      <td>0.0</td>\n",
              "      <td>0.573</td>\n",
              "      <td>6.593</td>\n",
              "      <td>69.1</td>\n",
              "      <td>2.4786</td>\n",
              "      <td>1.0</td>\n",
              "      <td>273.0</td>\n",
              "      <td>21.0</td>\n",
              "      <td>391.99</td>\n",
              "      <td>9.67</td>\n",
              "    </tr>\n",
              "    <tr>\n",
              "      <th>502</th>\n",
              "      <td>0.04527</td>\n",
              "      <td>0.0</td>\n",
              "      <td>11.93</td>\n",
              "      <td>0.0</td>\n",
              "      <td>0.573</td>\n",
              "      <td>6.120</td>\n",
              "      <td>76.7</td>\n",
              "      <td>2.2875</td>\n",
              "      <td>1.0</td>\n",
              "      <td>273.0</td>\n",
              "      <td>21.0</td>\n",
              "      <td>396.90</td>\n",
              "      <td>9.08</td>\n",
              "    </tr>\n",
              "    <tr>\n",
              "      <th>503</th>\n",
              "      <td>0.06076</td>\n",
              "      <td>0.0</td>\n",
              "      <td>11.93</td>\n",
              "      <td>0.0</td>\n",
              "      <td>0.573</td>\n",
              "      <td>6.976</td>\n",
              "      <td>91.0</td>\n",
              "      <td>2.1675</td>\n",
              "      <td>1.0</td>\n",
              "      <td>273.0</td>\n",
              "      <td>21.0</td>\n",
              "      <td>396.90</td>\n",
              "      <td>5.64</td>\n",
              "    </tr>\n",
              "    <tr>\n",
              "      <th>504</th>\n",
              "      <td>0.10959</td>\n",
              "      <td>0.0</td>\n",
              "      <td>11.93</td>\n",
              "      <td>0.0</td>\n",
              "      <td>0.573</td>\n",
              "      <td>6.794</td>\n",
              "      <td>89.3</td>\n",
              "      <td>2.3889</td>\n",
              "      <td>1.0</td>\n",
              "      <td>273.0</td>\n",
              "      <td>21.0</td>\n",
              "      <td>393.45</td>\n",
              "      <td>6.48</td>\n",
              "    </tr>\n",
              "    <tr>\n",
              "      <th>505</th>\n",
              "      <td>0.04741</td>\n",
              "      <td>0.0</td>\n",
              "      <td>11.93</td>\n",
              "      <td>0.0</td>\n",
              "      <td>0.573</td>\n",
              "      <td>6.030</td>\n",
              "      <td>80.8</td>\n",
              "      <td>2.5050</td>\n",
              "      <td>1.0</td>\n",
              "      <td>273.0</td>\n",
              "      <td>21.0</td>\n",
              "      <td>396.90</td>\n",
              "      <td>7.88</td>\n",
              "    </tr>\n",
              "  </tbody>\n",
              "</table>\n",
              "<p>506 rows × 13 columns</p>\n",
              "</div>"
            ],
            "text/plain": [
              "        CRIM    ZN  INDUS  CHAS    NOX  ...  RAD    TAX  PTRATIO       B  LSTAT\n",
              "0    0.00632  18.0   2.31   0.0  0.538  ...  1.0  296.0     15.3  396.90   4.98\n",
              "1    0.02731   0.0   7.07   0.0  0.469  ...  2.0  242.0     17.8  396.90   9.14\n",
              "2    0.02729   0.0   7.07   0.0  0.469  ...  2.0  242.0     17.8  392.83   4.03\n",
              "3    0.03237   0.0   2.18   0.0  0.458  ...  3.0  222.0     18.7  394.63   2.94\n",
              "4    0.06905   0.0   2.18   0.0  0.458  ...  3.0  222.0     18.7  396.90   5.33\n",
              "..       ...   ...    ...   ...    ...  ...  ...    ...      ...     ...    ...\n",
              "501  0.06263   0.0  11.93   0.0  0.573  ...  1.0  273.0     21.0  391.99   9.67\n",
              "502  0.04527   0.0  11.93   0.0  0.573  ...  1.0  273.0     21.0  396.90   9.08\n",
              "503  0.06076   0.0  11.93   0.0  0.573  ...  1.0  273.0     21.0  396.90   5.64\n",
              "504  0.10959   0.0  11.93   0.0  0.573  ...  1.0  273.0     21.0  393.45   6.48\n",
              "505  0.04741   0.0  11.93   0.0  0.573  ...  1.0  273.0     21.0  396.90   7.88\n",
              "\n",
              "[506 rows x 13 columns]"
            ]
          },
          "metadata": {
            "tags": []
          },
          "execution_count": 90
        }
      ]
    },
    {
      "cell_type": "markdown",
      "metadata": {
        "id": "hAwkdME5ENW6"
      },
      "source": [
        "#### 4. training data와 test data를 분리해주세요(비율 자유)"
      ]
    },
    {
      "cell_type": "code",
      "metadata": {
        "id": "RbSfGqAcENW6"
      },
      "source": [
        "from sklearn.model_selection import train_test_split\r\n",
        "X_tr,X_te,Y_tr,Y_te = train_test_split(boston.data, boston.target, test_size=0.3, random_state=120)"
      ],
      "execution_count": null,
      "outputs": []
    },
    {
      "cell_type": "markdown",
      "metadata": {
        "id": "R5Q0xyj5ENW7"
      },
      "source": [
        "#### 5. LinearRegression, Ridge, Lasso 각각의 방법으로 모델을 학습시키고 예측하여 RMSE값을 구해주세요. 세 경우의 RMSE값을 비교해주세요."
      ]
    },
    {
      "cell_type": "code",
      "metadata": {
        "colab": {
          "base_uri": "https://localhost:8080/"
        },
        "id": "IH5N39tkX4zg",
        "outputId": "a0bbcdb2-2e6a-40c4-f1d0-f2b0e388cd3b"
      },
      "source": [
        "from sklearn.metrics import mean_squared_error, r2_score\r\n",
        "from sklearn.linear_model import LinearRegression\r\n",
        "\r\n",
        "# LinearRegression\r\n",
        "linear = LinearRegression()\r\n",
        "linear.fit(X_tr, Y_tr)\r\n",
        "Y_pre = linear.predict(X_te)\r\n",
        "\r\n",
        "mse = mean_squared_error(Y_te, Y_pre)\r\n",
        "linear_rmse = np.sqrt(mse)\r\n",
        "print(\"RMSE 값 : \", linear_rmse)"
      ],
      "execution_count": null,
      "outputs": [
        {
          "output_type": "stream",
          "text": [
            "RMSE 값 :  5.327281725195684\n"
          ],
          "name": "stdout"
        }
      ]
    },
    {
      "cell_type": "code",
      "metadata": {
        "id": "VLucnHYwENW7",
        "colab": {
          "base_uri": "https://localhost:8080/"
        },
        "outputId": "85ce103d-b501-4f84-8215-789c95dd8185"
      },
      "source": [
        "#Ridge\n",
        "ridge = Ridge()\n",
        "ridge.fit(X_tr, Y_tr)\n",
        "Y_pre = ridge.predict(X_te)\n",
        "\n",
        "mse = mean_squared_error(Y_te, Y_pre)\n",
        "ridge_rmse = np.sqrt(mse)\n",
        "print(\"RMSE 값 : \", ridge_rmse)"
      ],
      "execution_count": null,
      "outputs": [
        {
          "output_type": "stream",
          "text": [
            "RMSE 값 :  5.397416199649931\n"
          ],
          "name": "stdout"
        }
      ]
    },
    {
      "cell_type": "code",
      "metadata": {
        "id": "BadKVo6EENW7",
        "colab": {
          "base_uri": "https://localhost:8080/"
        },
        "outputId": "9df6e17f-9c55-48f6-fb12-df182c6a263f"
      },
      "source": [
        "#Lasso\n",
        "lasso = Lasso()\n",
        "lasso.fit(X_tr, Y_tr)\n",
        "Y_pre = lasso.predict(X_te)\n",
        "\n",
        "mse = mean_squared_error(Y_te, Y_pre)\n",
        "lasso_rmse = np.sqrt(mse)\n",
        "print(\"RMSE 값 : \", lasso_rmse)"
      ],
      "execution_count": null,
      "outputs": [
        {
          "output_type": "stream",
          "text": [
            "RMSE 값 :  5.869552531643586\n"
          ],
          "name": "stdout"
        }
      ]
    },
    {
      "cell_type": "code",
      "metadata": {
        "id": "ZD3XJvkyENW8",
        "colab": {
          "base_uri": "https://localhost:8080/"
        },
        "outputId": "43d05e3e-8a1f-4fae-f081-f3ef9090f1c9"
      },
      "source": [
        "#RMSE과 비교\r\n",
        "print(\"LinearRegression : \", linear_rmse.round(3))\r\n",
        "print(\"Ridge : \", ridge_rmse.round(3))\r\n",
        "print(\"Lasso : \", lasso_rmse.round(3))"
      ],
      "execution_count": null,
      "outputs": [
        {
          "output_type": "stream",
          "text": [
            "LinearRegression :  5.327\n",
            "Ridge :  5.397\n",
            "Lasso :  5.87\n"
          ],
          "name": "stdout"
        }
      ]
    },
    {
      "cell_type": "markdown",
      "metadata": {
        "id": "WogFWELZlj8G"
      },
      "source": [
        "### 5-1 MinMax 스케일링 후 RMES 값 변화를 확인해보기"
      ]
    },
    {
      "cell_type": "code",
      "metadata": {
        "colab": {
          "base_uri": "https://localhost:8080/",
          "height": 286
        },
        "id": "Ertv_DwJkDm3",
        "outputId": "65b1a879-0be7-4cd6-bf5b-cc9d6c48c47c"
      },
      "source": [
        "boston_df.describe()"
      ],
      "execution_count": null,
      "outputs": [
        {
          "output_type": "execute_result",
          "data": {
            "text/html": [
              "<div>\n",
              "<style scoped>\n",
              "    .dataframe tbody tr th:only-of-type {\n",
              "        vertical-align: middle;\n",
              "    }\n",
              "\n",
              "    .dataframe tbody tr th {\n",
              "        vertical-align: top;\n",
              "    }\n",
              "\n",
              "    .dataframe thead th {\n",
              "        text-align: right;\n",
              "    }\n",
              "</style>\n",
              "<table border=\"1\" class=\"dataframe\">\n",
              "  <thead>\n",
              "    <tr style=\"text-align: right;\">\n",
              "      <th></th>\n",
              "      <th>CRIM</th>\n",
              "      <th>ZN</th>\n",
              "      <th>INDUS</th>\n",
              "      <th>CHAS</th>\n",
              "      <th>NOX</th>\n",
              "      <th>RM</th>\n",
              "      <th>AGE</th>\n",
              "      <th>DIS</th>\n",
              "      <th>RAD</th>\n",
              "      <th>TAX</th>\n",
              "      <th>PTRATIO</th>\n",
              "      <th>B</th>\n",
              "      <th>LSTAT</th>\n",
              "    </tr>\n",
              "  </thead>\n",
              "  <tbody>\n",
              "    <tr>\n",
              "      <th>count</th>\n",
              "      <td>506.000000</td>\n",
              "      <td>506.000000</td>\n",
              "      <td>506.000000</td>\n",
              "      <td>506.000000</td>\n",
              "      <td>506.000000</td>\n",
              "      <td>506.000000</td>\n",
              "      <td>506.000000</td>\n",
              "      <td>506.000000</td>\n",
              "      <td>506.000000</td>\n",
              "      <td>506.000000</td>\n",
              "      <td>506.000000</td>\n",
              "      <td>506.000000</td>\n",
              "      <td>506.000000</td>\n",
              "    </tr>\n",
              "    <tr>\n",
              "      <th>mean</th>\n",
              "      <td>3.613524</td>\n",
              "      <td>11.363636</td>\n",
              "      <td>11.136779</td>\n",
              "      <td>0.069170</td>\n",
              "      <td>0.554695</td>\n",
              "      <td>6.284634</td>\n",
              "      <td>68.574901</td>\n",
              "      <td>3.795043</td>\n",
              "      <td>9.549407</td>\n",
              "      <td>408.237154</td>\n",
              "      <td>18.455534</td>\n",
              "      <td>356.674032</td>\n",
              "      <td>12.653063</td>\n",
              "    </tr>\n",
              "    <tr>\n",
              "      <th>std</th>\n",
              "      <td>8.601545</td>\n",
              "      <td>23.322453</td>\n",
              "      <td>6.860353</td>\n",
              "      <td>0.253994</td>\n",
              "      <td>0.115878</td>\n",
              "      <td>0.702617</td>\n",
              "      <td>28.148861</td>\n",
              "      <td>2.105710</td>\n",
              "      <td>8.707259</td>\n",
              "      <td>168.537116</td>\n",
              "      <td>2.164946</td>\n",
              "      <td>91.294864</td>\n",
              "      <td>7.141062</td>\n",
              "    </tr>\n",
              "    <tr>\n",
              "      <th>min</th>\n",
              "      <td>0.006320</td>\n",
              "      <td>0.000000</td>\n",
              "      <td>0.460000</td>\n",
              "      <td>0.000000</td>\n",
              "      <td>0.385000</td>\n",
              "      <td>3.561000</td>\n",
              "      <td>2.900000</td>\n",
              "      <td>1.129600</td>\n",
              "      <td>1.000000</td>\n",
              "      <td>187.000000</td>\n",
              "      <td>12.600000</td>\n",
              "      <td>0.320000</td>\n",
              "      <td>1.730000</td>\n",
              "    </tr>\n",
              "    <tr>\n",
              "      <th>25%</th>\n",
              "      <td>0.082045</td>\n",
              "      <td>0.000000</td>\n",
              "      <td>5.190000</td>\n",
              "      <td>0.000000</td>\n",
              "      <td>0.449000</td>\n",
              "      <td>5.885500</td>\n",
              "      <td>45.025000</td>\n",
              "      <td>2.100175</td>\n",
              "      <td>4.000000</td>\n",
              "      <td>279.000000</td>\n",
              "      <td>17.400000</td>\n",
              "      <td>375.377500</td>\n",
              "      <td>6.950000</td>\n",
              "    </tr>\n",
              "    <tr>\n",
              "      <th>50%</th>\n",
              "      <td>0.256510</td>\n",
              "      <td>0.000000</td>\n",
              "      <td>9.690000</td>\n",
              "      <td>0.000000</td>\n",
              "      <td>0.538000</td>\n",
              "      <td>6.208500</td>\n",
              "      <td>77.500000</td>\n",
              "      <td>3.207450</td>\n",
              "      <td>5.000000</td>\n",
              "      <td>330.000000</td>\n",
              "      <td>19.050000</td>\n",
              "      <td>391.440000</td>\n",
              "      <td>11.360000</td>\n",
              "    </tr>\n",
              "    <tr>\n",
              "      <th>75%</th>\n",
              "      <td>3.677083</td>\n",
              "      <td>12.500000</td>\n",
              "      <td>18.100000</td>\n",
              "      <td>0.000000</td>\n",
              "      <td>0.624000</td>\n",
              "      <td>6.623500</td>\n",
              "      <td>94.075000</td>\n",
              "      <td>5.188425</td>\n",
              "      <td>24.000000</td>\n",
              "      <td>666.000000</td>\n",
              "      <td>20.200000</td>\n",
              "      <td>396.225000</td>\n",
              "      <td>16.955000</td>\n",
              "    </tr>\n",
              "    <tr>\n",
              "      <th>max</th>\n",
              "      <td>88.976200</td>\n",
              "      <td>100.000000</td>\n",
              "      <td>27.740000</td>\n",
              "      <td>1.000000</td>\n",
              "      <td>0.871000</td>\n",
              "      <td>8.780000</td>\n",
              "      <td>100.000000</td>\n",
              "      <td>12.126500</td>\n",
              "      <td>24.000000</td>\n",
              "      <td>711.000000</td>\n",
              "      <td>22.000000</td>\n",
              "      <td>396.900000</td>\n",
              "      <td>37.970000</td>\n",
              "    </tr>\n",
              "  </tbody>\n",
              "</table>\n",
              "</div>"
            ],
            "text/plain": [
              "             CRIM          ZN       INDUS  ...     PTRATIO           B       LSTAT\n",
              "count  506.000000  506.000000  506.000000  ...  506.000000  506.000000  506.000000\n",
              "mean     3.613524   11.363636   11.136779  ...   18.455534  356.674032   12.653063\n",
              "std      8.601545   23.322453    6.860353  ...    2.164946   91.294864    7.141062\n",
              "min      0.006320    0.000000    0.460000  ...   12.600000    0.320000    1.730000\n",
              "25%      0.082045    0.000000    5.190000  ...   17.400000  375.377500    6.950000\n",
              "50%      0.256510    0.000000    9.690000  ...   19.050000  391.440000   11.360000\n",
              "75%      3.677083   12.500000   18.100000  ...   20.200000  396.225000   16.955000\n",
              "max     88.976200  100.000000   27.740000  ...   22.000000  396.900000   37.970000\n",
              "\n",
              "[8 rows x 13 columns]"
            ]
          },
          "metadata": {
            "tags": []
          },
          "execution_count": 96
        }
      ]
    },
    {
      "cell_type": "markdown",
      "metadata": {
        "id": "z-yRNb1okO5p"
      },
      "source": [
        "피쳐 스케일간의 차이가 많이 있습니다. 전체 피쳐를 MinMaxScaler 후 다시 RMES 값을 비교해보겠습니다"
      ]
    },
    {
      "cell_type": "code",
      "metadata": {
        "id": "9yGYuKtOkIsW"
      },
      "source": [
        "#MinMaxScasler\r\n",
        "minmax = MinMaxScaler()\r\n",
        "minmax.fit(boston_df)\r\n",
        "boaston_scaled = minmax.transform(boston_df)\r\n",
        "boaston_scaled_df = pd.DataFrame(boaston_scaled, columns=boston.feature_names)\r\n",
        "\r\n",
        "X_tr,X_te,Y_tr,Y_te = train_test_split(boaston_scaled_df, boston.target, test_size=0.3, random_state=120)\r\n"
      ],
      "execution_count": null,
      "outputs": []
    },
    {
      "cell_type": "code",
      "metadata": {
        "colab": {
          "base_uri": "https://localhost:8080/",
          "height": 286
        },
        "id": "MtwE__qsmPU1",
        "outputId": "99a89795-7240-45f9-e181-44163221f00d"
      },
      "source": [
        "#각 피쳐의 min이 0, max가 1입니다.\r\n",
        "boaston_scaled_df.describe()"
      ],
      "execution_count": null,
      "outputs": [
        {
          "output_type": "execute_result",
          "data": {
            "text/html": [
              "<div>\n",
              "<style scoped>\n",
              "    .dataframe tbody tr th:only-of-type {\n",
              "        vertical-align: middle;\n",
              "    }\n",
              "\n",
              "    .dataframe tbody tr th {\n",
              "        vertical-align: top;\n",
              "    }\n",
              "\n",
              "    .dataframe thead th {\n",
              "        text-align: right;\n",
              "    }\n",
              "</style>\n",
              "<table border=\"1\" class=\"dataframe\">\n",
              "  <thead>\n",
              "    <tr style=\"text-align: right;\">\n",
              "      <th></th>\n",
              "      <th>CRIM</th>\n",
              "      <th>ZN</th>\n",
              "      <th>INDUS</th>\n",
              "      <th>CHAS</th>\n",
              "      <th>NOX</th>\n",
              "      <th>RM</th>\n",
              "      <th>AGE</th>\n",
              "      <th>DIS</th>\n",
              "      <th>RAD</th>\n",
              "      <th>TAX</th>\n",
              "      <th>PTRATIO</th>\n",
              "      <th>B</th>\n",
              "      <th>LSTAT</th>\n",
              "    </tr>\n",
              "  </thead>\n",
              "  <tbody>\n",
              "    <tr>\n",
              "      <th>count</th>\n",
              "      <td>506.000000</td>\n",
              "      <td>506.000000</td>\n",
              "      <td>506.000000</td>\n",
              "      <td>506.000000</td>\n",
              "      <td>506.000000</td>\n",
              "      <td>506.000000</td>\n",
              "      <td>506.000000</td>\n",
              "      <td>506.000000</td>\n",
              "      <td>506.000000</td>\n",
              "      <td>506.000000</td>\n",
              "      <td>506.000000</td>\n",
              "      <td>506.000000</td>\n",
              "      <td>506.000000</td>\n",
              "    </tr>\n",
              "    <tr>\n",
              "      <th>mean</th>\n",
              "      <td>0.040544</td>\n",
              "      <td>0.113636</td>\n",
              "      <td>0.391378</td>\n",
              "      <td>0.069170</td>\n",
              "      <td>0.349167</td>\n",
              "      <td>0.521869</td>\n",
              "      <td>0.676364</td>\n",
              "      <td>0.242381</td>\n",
              "      <td>0.371713</td>\n",
              "      <td>0.422208</td>\n",
              "      <td>0.622929</td>\n",
              "      <td>0.898568</td>\n",
              "      <td>0.301409</td>\n",
              "    </tr>\n",
              "    <tr>\n",
              "      <th>std</th>\n",
              "      <td>0.096679</td>\n",
              "      <td>0.233225</td>\n",
              "      <td>0.251479</td>\n",
              "      <td>0.253994</td>\n",
              "      <td>0.238431</td>\n",
              "      <td>0.134627</td>\n",
              "      <td>0.289896</td>\n",
              "      <td>0.191482</td>\n",
              "      <td>0.378576</td>\n",
              "      <td>0.321636</td>\n",
              "      <td>0.230313</td>\n",
              "      <td>0.230205</td>\n",
              "      <td>0.197049</td>\n",
              "    </tr>\n",
              "    <tr>\n",
              "      <th>min</th>\n",
              "      <td>0.000000</td>\n",
              "      <td>0.000000</td>\n",
              "      <td>0.000000</td>\n",
              "      <td>0.000000</td>\n",
              "      <td>0.000000</td>\n",
              "      <td>0.000000</td>\n",
              "      <td>0.000000</td>\n",
              "      <td>0.000000</td>\n",
              "      <td>0.000000</td>\n",
              "      <td>0.000000</td>\n",
              "      <td>0.000000</td>\n",
              "      <td>0.000000</td>\n",
              "      <td>0.000000</td>\n",
              "    </tr>\n",
              "    <tr>\n",
              "      <th>25%</th>\n",
              "      <td>0.000851</td>\n",
              "      <td>0.000000</td>\n",
              "      <td>0.173387</td>\n",
              "      <td>0.000000</td>\n",
              "      <td>0.131687</td>\n",
              "      <td>0.445392</td>\n",
              "      <td>0.433831</td>\n",
              "      <td>0.088259</td>\n",
              "      <td>0.130435</td>\n",
              "      <td>0.175573</td>\n",
              "      <td>0.510638</td>\n",
              "      <td>0.945730</td>\n",
              "      <td>0.144040</td>\n",
              "    </tr>\n",
              "    <tr>\n",
              "      <th>50%</th>\n",
              "      <td>0.002812</td>\n",
              "      <td>0.000000</td>\n",
              "      <td>0.338343</td>\n",
              "      <td>0.000000</td>\n",
              "      <td>0.314815</td>\n",
              "      <td>0.507281</td>\n",
              "      <td>0.768280</td>\n",
              "      <td>0.188949</td>\n",
              "      <td>0.173913</td>\n",
              "      <td>0.272901</td>\n",
              "      <td>0.686170</td>\n",
              "      <td>0.986232</td>\n",
              "      <td>0.265728</td>\n",
              "    </tr>\n",
              "    <tr>\n",
              "      <th>75%</th>\n",
              "      <td>0.041258</td>\n",
              "      <td>0.125000</td>\n",
              "      <td>0.646628</td>\n",
              "      <td>0.000000</td>\n",
              "      <td>0.491770</td>\n",
              "      <td>0.586798</td>\n",
              "      <td>0.938980</td>\n",
              "      <td>0.369088</td>\n",
              "      <td>1.000000</td>\n",
              "      <td>0.914122</td>\n",
              "      <td>0.808511</td>\n",
              "      <td>0.998298</td>\n",
              "      <td>0.420116</td>\n",
              "    </tr>\n",
              "    <tr>\n",
              "      <th>max</th>\n",
              "      <td>1.000000</td>\n",
              "      <td>1.000000</td>\n",
              "      <td>1.000000</td>\n",
              "      <td>1.000000</td>\n",
              "      <td>1.000000</td>\n",
              "      <td>1.000000</td>\n",
              "      <td>1.000000</td>\n",
              "      <td>1.000000</td>\n",
              "      <td>1.000000</td>\n",
              "      <td>1.000000</td>\n",
              "      <td>1.000000</td>\n",
              "      <td>1.000000</td>\n",
              "      <td>1.000000</td>\n",
              "    </tr>\n",
              "  </tbody>\n",
              "</table>\n",
              "</div>"
            ],
            "text/plain": [
              "             CRIM          ZN       INDUS  ...     PTRATIO           B       LSTAT\n",
              "count  506.000000  506.000000  506.000000  ...  506.000000  506.000000  506.000000\n",
              "mean     0.040544    0.113636    0.391378  ...    0.622929    0.898568    0.301409\n",
              "std      0.096679    0.233225    0.251479  ...    0.230313    0.230205    0.197049\n",
              "min      0.000000    0.000000    0.000000  ...    0.000000    0.000000    0.000000\n",
              "25%      0.000851    0.000000    0.173387  ...    0.510638    0.945730    0.144040\n",
              "50%      0.002812    0.000000    0.338343  ...    0.686170    0.986232    0.265728\n",
              "75%      0.041258    0.125000    0.646628  ...    0.808511    0.998298    0.420116\n",
              "max      1.000000    1.000000    1.000000  ...    1.000000    1.000000    1.000000\n",
              "\n",
              "[8 rows x 13 columns]"
            ]
          },
          "metadata": {
            "tags": []
          },
          "execution_count": 98
        }
      ]
    },
    {
      "cell_type": "code",
      "metadata": {
        "colab": {
          "base_uri": "https://localhost:8080/"
        },
        "id": "eCdVtvZNmDqi",
        "outputId": "d19dc3a3-049b-4dfa-a6f3-5df2b160f551"
      },
      "source": [
        "# LinearRegression\r\n",
        "linear = LinearRegression()\r\n",
        "linear.fit(X_tr, Y_tr)\r\n",
        "Y_pre = linear.predict(X_te)\r\n",
        "\r\n",
        "mse = mean_squared_error(Y_te, Y_pre)\r\n",
        "linear_rmse = np.sqrt(mse)\r\n",
        "\r\n",
        "#Ridge\r\n",
        "ridge = Ridge()\r\n",
        "ridge.fit(X_tr, Y_tr)\r\n",
        "Y_pre = ridge.predict(X_te)\r\n",
        "\r\n",
        "mse = mean_squared_error(Y_te, Y_pre)\r\n",
        "ridge_rmse = np.sqrt(mse)\r\n",
        "\r\n",
        "#Lasso\r\n",
        "lasso = Lasso()\r\n",
        "lasso.fit(X_tr, Y_tr)\r\n",
        "Y_pre = lasso.predict(X_te)\r\n",
        "\r\n",
        "mse = mean_squared_error(Y_te, Y_pre)\r\n",
        "lasso_rmse = np.sqrt(mse)\r\n",
        "\r\n",
        "print(\"MinMaxScale 결과\")\r\n",
        "print(\"LinearRegression : \", linear_rmse.round(3))\r\n",
        "print(\"Ridge : \", ridge_rmse.round(3))\r\n",
        "print(\"Lasso : \", lasso_rmse.round(3))"
      ],
      "execution_count": null,
      "outputs": [
        {
          "output_type": "stream",
          "text": [
            "MinMaxScale 결과\n",
            "LinearRegression :  5.327\n",
            "Ridge :  5.425\n",
            "Lasso :  8.775\n"
          ],
          "name": "stdout"
        }
      ]
    },
    {
      "cell_type": "markdown",
      "metadata": {
        "id": "0QCmMmB6mXQr"
      },
      "source": [
        "### 5-2 Strandization 후 RMES 값 변화를 확인해보기"
      ]
    },
    {
      "cell_type": "code",
      "metadata": {
        "id": "MCbXJjNemXQy"
      },
      "source": [
        "strandard = StandardScaler()\r\n",
        "strandard.fit(boston_df)\r\n",
        "boaston_scaled2 = strandard.transform(boston_df)\r\n",
        "boaston_scaled_df2 = pd.DataFrame(boaston_scaled2, columns=boston.feature_names)\r\n",
        "\r\n",
        "X_tr,X_te,Y_tr,Y_te = train_test_split(boaston_scaled_df2, boston.target, test_size=0.3, random_state=120)\r\n"
      ],
      "execution_count": null,
      "outputs": []
    },
    {
      "cell_type": "code",
      "metadata": {
        "colab": {
          "base_uri": "https://localhost:8080/",
          "height": 286
        },
        "id": "J8Co4wsumXQy",
        "outputId": "bd770bfa-e190-483c-a9b2-e3e5761535f7"
      },
      "source": [
        "#각 피쳐의 평균이 0, 표준편차가 1입니다.\r\n",
        "boaston_scaled_df2.describe().round(3)"
      ],
      "execution_count": null,
      "outputs": [
        {
          "output_type": "execute_result",
          "data": {
            "text/html": [
              "<div>\n",
              "<style scoped>\n",
              "    .dataframe tbody tr th:only-of-type {\n",
              "        vertical-align: middle;\n",
              "    }\n",
              "\n",
              "    .dataframe tbody tr th {\n",
              "        vertical-align: top;\n",
              "    }\n",
              "\n",
              "    .dataframe thead th {\n",
              "        text-align: right;\n",
              "    }\n",
              "</style>\n",
              "<table border=\"1\" class=\"dataframe\">\n",
              "  <thead>\n",
              "    <tr style=\"text-align: right;\">\n",
              "      <th></th>\n",
              "      <th>CRIM</th>\n",
              "      <th>ZN</th>\n",
              "      <th>INDUS</th>\n",
              "      <th>CHAS</th>\n",
              "      <th>NOX</th>\n",
              "      <th>RM</th>\n",
              "      <th>AGE</th>\n",
              "      <th>DIS</th>\n",
              "      <th>RAD</th>\n",
              "      <th>TAX</th>\n",
              "      <th>PTRATIO</th>\n",
              "      <th>B</th>\n",
              "      <th>LSTAT</th>\n",
              "    </tr>\n",
              "  </thead>\n",
              "  <tbody>\n",
              "    <tr>\n",
              "      <th>count</th>\n",
              "      <td>506.000</td>\n",
              "      <td>506.000</td>\n",
              "      <td>506.000</td>\n",
              "      <td>506.000</td>\n",
              "      <td>506.000</td>\n",
              "      <td>506.000</td>\n",
              "      <td>506.000</td>\n",
              "      <td>506.000</td>\n",
              "      <td>506.000</td>\n",
              "      <td>506.000</td>\n",
              "      <td>506.000</td>\n",
              "      <td>506.000</td>\n",
              "      <td>506.000</td>\n",
              "    </tr>\n",
              "    <tr>\n",
              "      <th>mean</th>\n",
              "      <td>-0.000</td>\n",
              "      <td>-0.000</td>\n",
              "      <td>-0.000</td>\n",
              "      <td>0.000</td>\n",
              "      <td>0.000</td>\n",
              "      <td>-0.000</td>\n",
              "      <td>-0.000</td>\n",
              "      <td>0.000</td>\n",
              "      <td>0.000</td>\n",
              "      <td>-0.000</td>\n",
              "      <td>-0.000</td>\n",
              "      <td>0.000</td>\n",
              "      <td>-0.000</td>\n",
              "    </tr>\n",
              "    <tr>\n",
              "      <th>std</th>\n",
              "      <td>1.001</td>\n",
              "      <td>1.001</td>\n",
              "      <td>1.001</td>\n",
              "      <td>1.001</td>\n",
              "      <td>1.001</td>\n",
              "      <td>1.001</td>\n",
              "      <td>1.001</td>\n",
              "      <td>1.001</td>\n",
              "      <td>1.001</td>\n",
              "      <td>1.001</td>\n",
              "      <td>1.001</td>\n",
              "      <td>1.001</td>\n",
              "      <td>1.001</td>\n",
              "    </tr>\n",
              "    <tr>\n",
              "      <th>min</th>\n",
              "      <td>-0.420</td>\n",
              "      <td>-0.488</td>\n",
              "      <td>-1.558</td>\n",
              "      <td>-0.273</td>\n",
              "      <td>-1.466</td>\n",
              "      <td>-3.880</td>\n",
              "      <td>-2.335</td>\n",
              "      <td>-1.267</td>\n",
              "      <td>-0.983</td>\n",
              "      <td>-1.314</td>\n",
              "      <td>-2.707</td>\n",
              "      <td>-3.907</td>\n",
              "      <td>-1.531</td>\n",
              "    </tr>\n",
              "    <tr>\n",
              "      <th>25%</th>\n",
              "      <td>-0.411</td>\n",
              "      <td>-0.488</td>\n",
              "      <td>-0.868</td>\n",
              "      <td>-0.273</td>\n",
              "      <td>-0.913</td>\n",
              "      <td>-0.569</td>\n",
              "      <td>-0.837</td>\n",
              "      <td>-0.806</td>\n",
              "      <td>-0.638</td>\n",
              "      <td>-0.768</td>\n",
              "      <td>-0.488</td>\n",
              "      <td>0.205</td>\n",
              "      <td>-0.799</td>\n",
              "    </tr>\n",
              "    <tr>\n",
              "      <th>50%</th>\n",
              "      <td>-0.391</td>\n",
              "      <td>-0.488</td>\n",
              "      <td>-0.211</td>\n",
              "      <td>-0.273</td>\n",
              "      <td>-0.144</td>\n",
              "      <td>-0.108</td>\n",
              "      <td>0.317</td>\n",
              "      <td>-0.279</td>\n",
              "      <td>-0.523</td>\n",
              "      <td>-0.465</td>\n",
              "      <td>0.275</td>\n",
              "      <td>0.381</td>\n",
              "      <td>-0.181</td>\n",
              "    </tr>\n",
              "    <tr>\n",
              "      <th>75%</th>\n",
              "      <td>0.007</td>\n",
              "      <td>0.049</td>\n",
              "      <td>1.016</td>\n",
              "      <td>-0.273</td>\n",
              "      <td>0.599</td>\n",
              "      <td>0.483</td>\n",
              "      <td>0.907</td>\n",
              "      <td>0.662</td>\n",
              "      <td>1.661</td>\n",
              "      <td>1.531</td>\n",
              "      <td>0.807</td>\n",
              "      <td>0.434</td>\n",
              "      <td>0.603</td>\n",
              "    </tr>\n",
              "    <tr>\n",
              "      <th>max</th>\n",
              "      <td>9.934</td>\n",
              "      <td>3.804</td>\n",
              "      <td>2.423</td>\n",
              "      <td>3.668</td>\n",
              "      <td>2.732</td>\n",
              "      <td>3.555</td>\n",
              "      <td>1.117</td>\n",
              "      <td>3.961</td>\n",
              "      <td>1.661</td>\n",
              "      <td>1.798</td>\n",
              "      <td>1.639</td>\n",
              "      <td>0.441</td>\n",
              "      <td>3.549</td>\n",
              "    </tr>\n",
              "  </tbody>\n",
              "</table>\n",
              "</div>"
            ],
            "text/plain": [
              "          CRIM       ZN    INDUS     CHAS  ...      TAX  PTRATIO        B    LSTAT\n",
              "count  506.000  506.000  506.000  506.000  ...  506.000  506.000  506.000  506.000\n",
              "mean    -0.000   -0.000   -0.000    0.000  ...   -0.000   -0.000    0.000   -0.000\n",
              "std      1.001    1.001    1.001    1.001  ...    1.001    1.001    1.001    1.001\n",
              "min     -0.420   -0.488   -1.558   -0.273  ...   -1.314   -2.707   -3.907   -1.531\n",
              "25%     -0.411   -0.488   -0.868   -0.273  ...   -0.768   -0.488    0.205   -0.799\n",
              "50%     -0.391   -0.488   -0.211   -0.273  ...   -0.465    0.275    0.381   -0.181\n",
              "75%      0.007    0.049    1.016   -0.273  ...    1.531    0.807    0.434    0.603\n",
              "max      9.934    3.804    2.423    3.668  ...    1.798    1.639    0.441    3.549\n",
              "\n",
              "[8 rows x 13 columns]"
            ]
          },
          "metadata": {
            "tags": []
          },
          "execution_count": 101
        }
      ]
    },
    {
      "cell_type": "code",
      "metadata": {
        "colab": {
          "base_uri": "https://localhost:8080/"
        },
        "id": "W82YwbDlmXQz",
        "outputId": "65880cd7-b280-4dc6-c3ba-2b965ea1fa13"
      },
      "source": [
        "# LinearRegression\r\n",
        "linear = LinearRegression()\r\n",
        "linear.fit(X_tr, Y_tr)\r\n",
        "Y_pre = linear.predict(X_te)\r\n",
        "\r\n",
        "mse = mean_squared_error(Y_te, Y_pre)\r\n",
        "linear_rmse = np.sqrt(mse)\r\n",
        "\r\n",
        "#Ridge\r\n",
        "ridge = Ridge()\r\n",
        "ridge.fit(X_tr, Y_tr)\r\n",
        "Y_pre = ridge.predict(X_te)\r\n",
        "\r\n",
        "mse = mean_squared_error(Y_te, Y_pre)\r\n",
        "ridge_rmse = np.sqrt(mse)\r\n",
        "\r\n",
        "#Lasso\r\n",
        "lasso = Lasso()\r\n",
        "lasso.fit(X_tr, Y_tr)\r\n",
        "Y_pre = lasso.predict(X_te)\r\n",
        "\r\n",
        "mse = mean_squared_error(Y_te, Y_pre)\r\n",
        "lasso_rmse = np.sqrt(mse)\r\n",
        "\r\n",
        "print(\"StandardScaler 결과\")\r\n",
        "print(\"LinearRegression : \", linear_rmse.round(3))\r\n",
        "print(\"Ridge : \", ridge_rmse.round(3))\r\n",
        "print(\"Lasso : \", lasso_rmse.round(3))"
      ],
      "execution_count": null,
      "outputs": [
        {
          "output_type": "stream",
          "text": [
            "StandardScaler 결과\n",
            "LinearRegression :  5.327\n",
            "Ridge :  5.33\n",
            "Lasso :  5.816\n"
          ],
          "name": "stdout"
        }
      ]
    }
  ]
}